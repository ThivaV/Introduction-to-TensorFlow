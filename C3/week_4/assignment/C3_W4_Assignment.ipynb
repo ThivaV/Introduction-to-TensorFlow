{
  "cells": [
    {
      "cell_type": "code",
      "execution_count": null,
      "metadata": {
        "id": "T2XpcPvbXalN"
      },
      "outputs": [],
      "source": [
        "#@title Licensed under the Apache License, Version 2.0 (the \"License\");\n",
        "# you may not use this file except in compliance with the License.\n",
        "# You may obtain a copy of the License at\n",
        "#\n",
        "# https://www.apache.org/licenses/LICENSE-2.0\n",
        "#\n",
        "# Unless required by applicable law or agreed to in writing, software\n",
        "# distributed under the License is distributed on an \"AS IS\" BASIS,\n",
        "# WITHOUT WARRANTIES OR CONDITIONS OF ANY KIND, either express or implied.\n",
        "# See the License for the specific language governing permissions and\n",
        "# limitations under the License."
      ]
    },
    {
      "cell_type": "markdown",
      "metadata": {
        "id": "eK88h3Y5XalO"
      },
      "source": [
        "**Note:** This notebook can run using TensorFlow 2.5.0"
      ]
    },
    {
      "cell_type": "code",
      "execution_count": null,
      "metadata": {
        "id": "zX4Kg8DUTKWO"
      },
      "outputs": [],
      "source": [
        "#!pip install tensorflow==2.5.0"
      ]
    },
    {
      "cell_type": "code",
      "execution_count": 1,
      "metadata": {
        "id": "BOwsuGQQY9OL"
      },
      "outputs": [],
      "source": [
        "from tensorflow.keras.preprocessing.sequence import pad_sequences\n",
        "from tensorflow.keras.layers import Embedding, LSTM, Dense, Dropout, Bidirectional\n",
        "from tensorflow.keras.preprocessing.text import Tokenizer\n",
        "from tensorflow.keras.models import Sequential\n",
        "from tensorflow.keras.optimizers import Adam\n",
        "### YOUR CODE HERE\n",
        "# Figure out how to import regularizers\n",
        "from tensorflow.keras import regularizers\n",
        "###\n",
        "import tensorflow.keras.utils as ku \n",
        "import numpy as np "
      ]
    },
    {
      "cell_type": "code",
      "execution_count": 2,
      "metadata": {
        "colab": {
          "base_uri": "https://localhost:8080/"
        },
        "id": "PRnDnCW-Z7qv",
        "outputId": "3014c968-cfef-43ba-c674-9da98cad4dd9"
      },
      "outputs": [
        {
          "name": "stdout",
          "output_type": "stream",
          "text": [
            "Downloading...\n",
            "From: https://drive.google.com/uc?id=108jAePKK4R3BVYBbYJZ32JWUwxeMg20K\n",
            "To: /content/sonnets.txt\n",
            "\r  0% 0.00/93.6k [00:00<?, ?B/s]\r100% 93.6k/93.6k [00:00<00:00, 36.5MB/s]\n"
          ]
        }
      ],
      "source": [
        "tokenizer = Tokenizer()\n",
        "\n",
        "# sonnets.txt\n",
        "!gdown --id 108jAePKK4R3BVYBbYJZ32JWUwxeMg20K\n",
        "\n",
        "data = open('./sonnets.txt').read()\n",
        "\n",
        "corpus = data.lower().split(\"\\n\")\n",
        "\n",
        "tokenizer.fit_on_texts(corpus)\n",
        "total_words = len(tokenizer.word_index) + 1\n",
        "\n",
        "# create input sequences using list of tokens\n",
        "input_sequences = []\n",
        "for line in corpus:\n",
        "\ttoken_list = tokenizer.texts_to_sequences([line])[0]\n",
        "\tfor i in range(1, len(token_list)):\n",
        "\t\tn_gram_sequence = token_list[:i+1]\n",
        "\t\tinput_sequences.append(n_gram_sequence)\n",
        "\n",
        "# pad sequences \n",
        "max_sequence_len = max([len(x) for x in input_sequences])\n",
        "input_sequences = np.array(pad_sequences(input_sequences, maxlen=max_sequence_len, padding='pre'))\n",
        "\n",
        "# create predictors and label\n",
        "predictors, label = input_sequences[:,:-1],input_sequences[:,-1]\n",
        "\n",
        "label = ku.to_categorical(label, num_classes=total_words)"
      ]
    },
    {
      "cell_type": "code",
      "execution_count": 9,
      "metadata": {
        "colab": {
          "base_uri": "https://localhost:8080/"
        },
        "id": "w9vH8Y59ajYL",
        "outputId": "95e98a33-ad90-42af-a020-cda2f230850b"
      },
      "outputs": [
        {
          "name": "stdout",
          "output_type": "stream",
          "text": [
            "Model: \"sequential_2\"\n",
            "____________________________________________________________________________________________________\n",
            " Layer (type)                                Output Shape                            Param #        \n",
            "====================================================================================================\n",
            " embedding_2 (Embedding)                     (None, 10, 100)                         321100         \n",
            "                                                                                                    \n",
            " bidirectional_4 (Bidirectional)             (None, 10, 300)                         301200         \n",
            "                                                                                                    \n",
            " dropout_2 (Dropout)                         (None, 10, 300)                         0              \n",
            "                                                                                                    \n",
            " bidirectional_5 (Bidirectional)             (None, 300)                             541200         \n",
            "                                                                                                    \n",
            " dense_4 (Dense)                             (None, 1605)                            483105         \n",
            "                                                                                                    \n",
            " dense_5 (Dense)                             (None, 3211)                            5156866        \n",
            "                                                                                                    \n",
            "====================================================================================================\n",
            "Total params: 6,803,471\n",
            "Trainable params: 6,803,471\n",
            "Non-trainable params: 0\n",
            "____________________________________________________________________________________________________\n",
            "None\n"
          ]
        }
      ],
      "source": [
        "### START CODE HERE\n",
        "model = Sequential()\n",
        "model.add(Embedding(total_words, 100, input_length=max_sequence_len -1)) # Your Embedding Layer\n",
        "model.add(Bidirectional(LSTM(150, return_sequences=True))) # An LSTM Layer\n",
        "model.add(Dropout(.2)) # A dropout layer\n",
        "model.add(Bidirectional(LSTM(150))) # Another LSTM Layer\n",
        "model.add(Dense(total_words/2, activation='relu', kernel_regularizer=regularizers.l2(0.01))) # A Dense Layer including regularizers\n",
        "model.add(Dense(total_words, activation='softmax')) # A Dense Layer\n",
        "\n",
        "# Pick an optimizer\n",
        "model.compile(loss=\"categorical_crossentropy\", optimizer='adam', metrics=['accuracy']) # Pick a loss function and an optimizer\n",
        "### END CODE HERE\n",
        "    \n",
        "print(model.summary(line_length=100))"
      ]
    },
    {
      "cell_type": "code",
      "execution_count": 10,
      "metadata": {
        "colab": {
          "base_uri": "https://localhost:8080/"
        },
        "id": "AIg2f1HBxqof",
        "outputId": "a6c21e3a-e727-44a9-e845-37b86dd6abc0"
      },
      "outputs": [
        {
          "name": "stdout",
          "output_type": "stream",
          "text": [
            "Epoch 1/100\n",
            "484/484 [==============================] - 26s 34ms/step - loss: 7.0207 - accuracy: 0.0209\n",
            "Epoch 2/100\n",
            "484/484 [==============================] - 16s 34ms/step - loss: 6.5122 - accuracy: 0.0217\n",
            "Epoch 3/100\n",
            "484/484 [==============================] - 16s 34ms/step - loss: 6.4100 - accuracy: 0.0255\n",
            "Epoch 4/100\n",
            "484/484 [==============================] - 16s 34ms/step - loss: 6.2938 - accuracy: 0.0307\n",
            "Epoch 5/100\n",
            "484/484 [==============================] - 16s 34ms/step - loss: 6.1869 - accuracy: 0.0369\n",
            "Epoch 6/100\n",
            "484/484 [==============================] - 16s 34ms/step - loss: 6.0904 - accuracy: 0.0393\n",
            "Epoch 7/100\n",
            "484/484 [==============================] - 16s 34ms/step - loss: 6.0073 - accuracy: 0.0416\n",
            "Epoch 8/100\n",
            "484/484 [==============================] - 16s 34ms/step - loss: 5.9129 - accuracy: 0.0451\n",
            "Epoch 9/100\n",
            "484/484 [==============================] - 16s 34ms/step - loss: 5.8036 - accuracy: 0.0514\n",
            "Epoch 10/100\n",
            "484/484 [==============================] - 16s 34ms/step - loss: 5.6786 - accuracy: 0.0582\n",
            "Epoch 11/100\n",
            "484/484 [==============================] - 16s 34ms/step - loss: 5.5605 - accuracy: 0.0643\n",
            "Epoch 12/100\n",
            "484/484 [==============================] - 16s 34ms/step - loss: 5.4432 - accuracy: 0.0753\n",
            "Epoch 13/100\n",
            "484/484 [==============================] - 16s 34ms/step - loss: 5.3184 - accuracy: 0.0825\n",
            "Epoch 14/100\n",
            "484/484 [==============================] - 16s 34ms/step - loss: 5.2027 - accuracy: 0.0916\n",
            "Epoch 15/100\n",
            "484/484 [==============================] - 16s 34ms/step - loss: 5.0858 - accuracy: 0.0995\n",
            "Epoch 16/100\n",
            "484/484 [==============================] - 16s 34ms/step - loss: 4.9626 - accuracy: 0.1102\n",
            "Epoch 17/100\n",
            "484/484 [==============================] - 16s 34ms/step - loss: 4.8487 - accuracy: 0.1179\n",
            "Epoch 18/100\n",
            "484/484 [==============================] - 17s 34ms/step - loss: 4.7309 - accuracy: 0.1287\n",
            "Epoch 19/100\n",
            "484/484 [==============================] - 16s 34ms/step - loss: 4.6124 - accuracy: 0.1408\n",
            "Epoch 20/100\n",
            "484/484 [==============================] - 16s 34ms/step - loss: 4.4902 - accuracy: 0.1511\n",
            "Epoch 21/100\n",
            "484/484 [==============================] - 16s 34ms/step - loss: 4.3713 - accuracy: 0.1645\n",
            "Epoch 22/100\n",
            "484/484 [==============================] - 16s 34ms/step - loss: 4.2555 - accuracy: 0.1808\n",
            "Epoch 23/100\n",
            "484/484 [==============================] - 16s 34ms/step - loss: 4.1355 - accuracy: 0.1931\n",
            "Epoch 24/100\n",
            "484/484 [==============================] - 16s 34ms/step - loss: 4.0212 - accuracy: 0.2081\n",
            "Epoch 25/100\n",
            "484/484 [==============================] - 16s 34ms/step - loss: 3.9059 - accuracy: 0.2270\n",
            "Epoch 26/100\n",
            "484/484 [==============================] - 16s 34ms/step - loss: 3.7912 - accuracy: 0.2447\n",
            "Epoch 27/100\n",
            "484/484 [==============================] - 16s 34ms/step - loss: 3.6830 - accuracy: 0.2630\n",
            "Epoch 28/100\n",
            "484/484 [==============================] - 16s 34ms/step - loss: 3.5721 - accuracy: 0.2826\n",
            "Epoch 29/100\n",
            "484/484 [==============================] - 16s 34ms/step - loss: 3.4562 - accuracy: 0.3097\n",
            "Epoch 30/100\n",
            "484/484 [==============================] - 16s 34ms/step - loss: 3.3510 - accuracy: 0.3366\n",
            "Epoch 31/100\n",
            "484/484 [==============================] - 16s 34ms/step - loss: 3.2536 - accuracy: 0.3566\n",
            "Epoch 32/100\n",
            "484/484 [==============================] - 16s 34ms/step - loss: 3.1492 - accuracy: 0.3811\n",
            "Epoch 33/100\n",
            "484/484 [==============================] - 16s 34ms/step - loss: 3.0575 - accuracy: 0.4016\n",
            "Epoch 34/100\n",
            "484/484 [==============================] - 16s 33ms/step - loss: 2.9506 - accuracy: 0.4243\n",
            "Epoch 35/100\n",
            "484/484 [==============================] - 16s 34ms/step - loss: 2.8773 - accuracy: 0.4436\n",
            "Epoch 36/100\n",
            "484/484 [==============================] - 16s 34ms/step - loss: 2.7867 - accuracy: 0.4622\n",
            "Epoch 37/100\n",
            "484/484 [==============================] - 16s 34ms/step - loss: 2.7174 - accuracy: 0.4801\n",
            "Epoch 38/100\n",
            "484/484 [==============================] - 16s 34ms/step - loss: 2.6435 - accuracy: 0.4979\n",
            "Epoch 39/100\n",
            "484/484 [==============================] - 16s 34ms/step - loss: 2.5633 - accuracy: 0.5100\n",
            "Epoch 40/100\n",
            "484/484 [==============================] - 17s 34ms/step - loss: 2.4962 - accuracy: 0.5314\n",
            "Epoch 41/100\n",
            "484/484 [==============================] - 16s 34ms/step - loss: 2.4170 - accuracy: 0.5500\n",
            "Epoch 42/100\n",
            "484/484 [==============================] - 16s 34ms/step - loss: 2.3506 - accuracy: 0.5656\n",
            "Epoch 43/100\n",
            "484/484 [==============================] - 16s 34ms/step - loss: 2.2970 - accuracy: 0.5765\n",
            "Epoch 44/100\n",
            "484/484 [==============================] - 17s 34ms/step - loss: 2.2426 - accuracy: 0.5878\n",
            "Epoch 45/100\n",
            "484/484 [==============================] - 16s 34ms/step - loss: 2.1779 - accuracy: 0.6066\n",
            "Epoch 46/100\n",
            "484/484 [==============================] - 16s 34ms/step - loss: 2.1389 - accuracy: 0.6126\n",
            "Epoch 47/100\n",
            "484/484 [==============================] - 16s 34ms/step - loss: 2.0917 - accuracy: 0.6222\n",
            "Epoch 48/100\n",
            "484/484 [==============================] - 16s 34ms/step - loss: 2.0264 - accuracy: 0.6378\n",
            "Epoch 49/100\n",
            "484/484 [==============================] - 16s 34ms/step - loss: 1.9814 - accuracy: 0.6437\n",
            "Epoch 50/100\n",
            "484/484 [==============================] - 16s 34ms/step - loss: 1.9460 - accuracy: 0.6553\n",
            "Epoch 51/100\n",
            "484/484 [==============================] - 16s 34ms/step - loss: 1.9002 - accuracy: 0.6658\n",
            "Epoch 52/100\n",
            "484/484 [==============================] - 16s 34ms/step - loss: 1.8461 - accuracy: 0.6766\n",
            "Epoch 53/100\n",
            "484/484 [==============================] - 16s 34ms/step - loss: 1.8112 - accuracy: 0.6837\n",
            "Epoch 54/100\n",
            "484/484 [==============================] - 17s 34ms/step - loss: 1.7718 - accuracy: 0.6927\n",
            "Epoch 55/100\n",
            "484/484 [==============================] - 16s 34ms/step - loss: 1.7419 - accuracy: 0.7001\n",
            "Epoch 56/100\n",
            "484/484 [==============================] - 16s 34ms/step - loss: 1.6946 - accuracy: 0.7132\n",
            "Epoch 57/100\n",
            "484/484 [==============================] - 16s 34ms/step - loss: 1.6617 - accuracy: 0.7193\n",
            "Epoch 58/100\n",
            "484/484 [==============================] - 17s 34ms/step - loss: 1.6431 - accuracy: 0.7198\n",
            "Epoch 59/100\n",
            "484/484 [==============================] - 16s 34ms/step - loss: 1.6384 - accuracy: 0.7172\n",
            "Epoch 60/100\n",
            "484/484 [==============================] - 16s 33ms/step - loss: 1.5802 - accuracy: 0.7340\n",
            "Epoch 61/100\n",
            "484/484 [==============================] - 16s 34ms/step - loss: 1.5503 - accuracy: 0.7382\n",
            "Epoch 62/100\n",
            "484/484 [==============================] - 16s 34ms/step - loss: 1.5289 - accuracy: 0.7412\n",
            "Epoch 63/100\n",
            "484/484 [==============================] - 16s 34ms/step - loss: 1.5008 - accuracy: 0.7462\n",
            "Epoch 64/100\n",
            "484/484 [==============================] - 16s 34ms/step - loss: 1.4816 - accuracy: 0.7518\n",
            "Epoch 65/100\n",
            "484/484 [==============================] - 16s 34ms/step - loss: 1.4628 - accuracy: 0.7550\n",
            "Epoch 66/100\n",
            "484/484 [==============================] - 16s 34ms/step - loss: 1.4369 - accuracy: 0.7588\n",
            "Epoch 67/100\n",
            "484/484 [==============================] - 16s 34ms/step - loss: 1.4087 - accuracy: 0.7637\n",
            "Epoch 68/100\n",
            "484/484 [==============================] - 16s 33ms/step - loss: 1.3958 - accuracy: 0.7683\n",
            "Epoch 69/100\n",
            "484/484 [==============================] - 16s 33ms/step - loss: 1.3678 - accuracy: 0.7736\n",
            "Epoch 70/100\n",
            "484/484 [==============================] - 16s 33ms/step - loss: 1.3501 - accuracy: 0.7767\n",
            "Epoch 71/100\n",
            "484/484 [==============================] - 16s 33ms/step - loss: 1.3346 - accuracy: 0.7752\n",
            "Epoch 72/100\n",
            "484/484 [==============================] - 16s 33ms/step - loss: 1.3173 - accuracy: 0.7807\n",
            "Epoch 73/100\n",
            "484/484 [==============================] - 16s 33ms/step - loss: 1.3125 - accuracy: 0.7820\n",
            "Epoch 74/100\n",
            "484/484 [==============================] - 16s 33ms/step - loss: 1.3001 - accuracy: 0.7844\n",
            "Epoch 75/100\n",
            "484/484 [==============================] - 16s 33ms/step - loss: 1.2802 - accuracy: 0.7857\n",
            "Epoch 76/100\n",
            "484/484 [==============================] - 16s 33ms/step - loss: 1.2545 - accuracy: 0.7927\n",
            "Epoch 77/100\n",
            "484/484 [==============================] - 16s 33ms/step - loss: 1.2488 - accuracy: 0.7903\n",
            "Epoch 78/100\n",
            "484/484 [==============================] - 16s 34ms/step - loss: 1.2235 - accuracy: 0.7952\n",
            "Epoch 79/100\n",
            "484/484 [==============================] - 16s 33ms/step - loss: 1.2261 - accuracy: 0.7939\n",
            "Epoch 80/100\n",
            "484/484 [==============================] - 16s 33ms/step - loss: 1.1920 - accuracy: 0.8008\n",
            "Epoch 81/100\n",
            "484/484 [==============================] - 16s 33ms/step - loss: 1.1983 - accuracy: 0.7973\n",
            "Epoch 82/100\n",
            "484/484 [==============================] - 16s 33ms/step - loss: 1.1999 - accuracy: 0.7969\n",
            "Epoch 83/100\n",
            "484/484 [==============================] - 16s 34ms/step - loss: 1.1831 - accuracy: 0.8001\n",
            "Epoch 84/100\n",
            "484/484 [==============================] - 16s 33ms/step - loss: 1.1689 - accuracy: 0.8033\n",
            "Epoch 85/100\n",
            "484/484 [==============================] - 16s 33ms/step - loss: 1.1374 - accuracy: 0.8077\n",
            "Epoch 86/100\n",
            "484/484 [==============================] - 16s 33ms/step - loss: 1.1321 - accuracy: 0.8104\n",
            "Epoch 87/100\n",
            "484/484 [==============================] - 16s 34ms/step - loss: 1.1169 - accuracy: 0.8128\n",
            "Epoch 88/100\n",
            "484/484 [==============================] - 16s 33ms/step - loss: 1.1256 - accuracy: 0.8105\n",
            "Epoch 89/100\n",
            "484/484 [==============================] - 16s 33ms/step - loss: 1.1312 - accuracy: 0.8069\n",
            "Epoch 90/100\n",
            "484/484 [==============================] - 16s 34ms/step - loss: 1.1076 - accuracy: 0.8114\n",
            "Epoch 91/100\n",
            "484/484 [==============================] - 16s 34ms/step - loss: 1.1156 - accuracy: 0.8086\n",
            "Epoch 92/100\n",
            "484/484 [==============================] - 16s 34ms/step - loss: 1.0908 - accuracy: 0.8122\n",
            "Epoch 93/100\n",
            "484/484 [==============================] - 16s 34ms/step - loss: 1.0771 - accuracy: 0.8165\n",
            "Epoch 94/100\n",
            "484/484 [==============================] - 16s 33ms/step - loss: 1.0734 - accuracy: 0.8147\n",
            "Epoch 95/100\n",
            "484/484 [==============================] - 16s 34ms/step - loss: 1.0684 - accuracy: 0.8157\n",
            "Epoch 96/100\n",
            "484/484 [==============================] - 16s 34ms/step - loss: 1.0626 - accuracy: 0.8155\n",
            "Epoch 97/100\n",
            "484/484 [==============================] - 16s 33ms/step - loss: 1.0659 - accuracy: 0.8165\n",
            "Epoch 98/100\n",
            "484/484 [==============================] - 16s 33ms/step - loss: 1.0418 - accuracy: 0.8194\n",
            "Epoch 99/100\n",
            "484/484 [==============================] - 16s 33ms/step - loss: 1.0297 - accuracy: 0.8226\n",
            "Epoch 100/100\n",
            "484/484 [==============================] - 16s 34ms/step - loss: 1.0171 - accuracy: 0.8251\n"
          ]
        }
      ],
      "source": [
        "history = model.fit(predictors, label, epochs=100, verbose=1)"
      ]
    },
    {
      "cell_type": "code",
      "execution_count": 11,
      "metadata": {
        "colab": {
          "base_uri": "https://localhost:8080/",
          "height": 545
        },
        "id": "1fXTEO3GJ282",
        "outputId": "a5033036-8095-4e99-89d1-83c807299a5a"
      },
      "outputs": [
        {
          "data": {
            "image/png": "[encoded data removed]",
            "text/plain": [
              "<Figure size 432x288 with 1 Axes>"
            ]
          },
          "metadata": {
            "needs_background": "light"
          },
          "output_type": "display_data"
        },
        {
          "data": {
            "image/png": "[encoded data removed]",
            "text/plain": [
              "<Figure size 432x288 with 1 Axes>"
            ]
          },
          "metadata": {
            "needs_background": "light"
          },
          "output_type": "display_data"
        }
      ],
      "source": [
        "import matplotlib.pyplot as plt\n",
        "acc = history.history['accuracy']\n",
        "loss = history.history['loss']\n",
        "\n",
        "epochs = range(len(acc))\n",
        "\n",
        "plt.plot(epochs, acc, 'b', label='Training accuracy')\n",
        "plt.title('Training accuracy')\n",
        "\n",
        "plt.figure()\n",
        "\n",
        "plt.plot(epochs, loss, 'b', label='Training Loss')\n",
        "plt.title('Training loss')\n",
        "plt.legend()\n",
        "\n",
        "plt.show()"
      ]
    },
    {
      "cell_type": "code",
      "execution_count": 14,
      "metadata": {
        "colab": {
          "base_uri": "https://localhost:8080/"
        },
        "id": "6Vc6PHgxa6Hm",
        "outputId": "9c7fb53b-429e-4a52-b0a7-e3daac90418f"
      },
      "outputs": [
        {
          "name": "stdout",
          "output_type": "stream",
          "text": [
            "Help me Obi Wan Kenobi, you're my only hope and and and and and and and and and and and and and and and and and and and and and and and and and and and and and and and and and and and and and and and and and and and and and and and and and and and and and and and and and and and and and and and and and and and and and and and and and and and and and and and and and and and and and and and and and and and and and and and and and and and and\n"
          ]
        }
      ],
      "source": [
        "seed_text = \"Help me Obi Wan Kenobi, you're my only hope\"\n",
        "next_words = 100\n",
        "  \n",
        "for _ in range(next_words):\n",
        "\ttoken_list = tokenizer.texts_to_sequences([seed_text])[0]\n",
        "\ttoken_list = pad_sequences([token_list], maxlen=max_sequence_len-1, padding='pre')\n",
        "\tpredicted = model.predict(token_list, verbose=0)\n",
        "\toutput_word = \"\"\n",
        "\tfor word, index in tokenizer.word_index.items():\n",
        "\t\tif index == predicted.any():\n",
        "\t\t\toutput_word = word\n",
        "\t\t\tbreak\n",
        "\tseed_text += \" \" + output_word\n",
        "print(seed_text)"
      ]
    },
    {
      "cell_type": "code",
      "execution_count": null,
      "metadata": {
        "id": "SZH_IKbLIcjW"
      },
      "outputs": [],
      "source": []
    }
  ],
  "metadata": {
    "accelerator": "GPU",
    "colab": {
      "name": "C3_W4_Assignment.ipynb",
      "provenance": []
    },
    "kernelspec": {
      "display_name": "Python 3",
      "language": "python",
      "name": "python3"
    },
    "language_info": {
      "codemirror_mode": {
        "name": "ipython",
        "version": 3
      },
      "file_extension": ".py",
      "mimetype": "text/x-python",
      "name": "python",
      "nbconvert_exporter": "python",
      "pygments_lexer": "ipython3",
      "version": "3.8.12"
    }
  },
  "nbformat": 4,
  "nbformat_minor": 0
}
