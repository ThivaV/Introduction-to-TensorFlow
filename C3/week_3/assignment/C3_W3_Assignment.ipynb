{
  "nbformat": 4,
  "nbformat_minor": 0,
  "metadata": {
    "accelerator": "GPU",
    "colab": {
      "name": "C3_W3_Assignment.ipynb",
      "provenance": []
    },
    "kernelspec": {
      "display_name": "Python 3",
      "language": "python",
      "name": "python3"
    },
    "language_info": {
      "codemirror_mode": {
        "name": "ipython",
        "version": 3
      },
      "file_extension": ".py",
      "mimetype": "text/x-python",
      "name": "python",
      "nbconvert_exporter": "python",
      "pygments_lexer": "ipython3",
      "version": "3.8.5"
    }
  },
  "cells": [
    {
      "cell_type": "code",
      "metadata": {
        "id": "zX4Kg8DUTKWO"
      },
      "source": [
        "#@title Licensed under the Apache License, Version 2.0 (the \"License\");\n",
        "# you may not use this file except in compliance with the License.\n",
        "# You may obtain a copy of the License at\n",
        "#\n",
        "# https://www.apache.org/licenses/LICENSE-2.0\n",
        "#\n",
        "# Unless required by applicable law or agreed to in writing, software\n",
        "# distributed under the License is distributed on an \"AS IS\" BASIS,\n",
        "# WITHOUT WARRANTIES OR CONDITIONS OF ANY KIND, either express or implied.\n",
        "# See the License for the specific language governing permissions and\n",
        "# limitations under the License."
      ],
      "execution_count": null,
      "outputs": []
    },
    {
      "cell_type": "markdown",
      "metadata": {
        "id": "gnU1TV9kV5f9"
      },
      "source": [
        "**Note:** This notebook can run using TensorFlow 2.5.0"
      ]
    },
    {
      "cell_type": "code",
      "metadata": {
        "id": "qTZDRvo5V5f9"
      },
      "source": [
        "#!pip install tensorflow==2.5.0"
      ],
      "execution_count": null,
      "outputs": []
    },
    {
      "cell_type": "code",
      "metadata": {
        "id": "hmA6EzkQJ5jt"
      },
      "source": [
        "import json\n",
        "import tensorflow as tf\n",
        "import csv\n",
        "import random\n",
        "import numpy as np\n",
        "\n",
        "from tensorflow.keras.preprocessing.text import Tokenizer\n",
        "from tensorflow.keras.preprocessing.sequence import pad_sequences\n",
        "from tensorflow.keras.utils import to_categorical\n",
        "from tensorflow.keras import regularizers\n",
        "\n",
        "embedding_dim = 100\n",
        "max_length = 16\n",
        "trunc_type='post'\n",
        "padding_type='post'\n",
        "oov_tok = \"<OOV>\"\n",
        "training_size= 160000 # Your dataset size here. Experiment using smaller values (i.e. 16000), but don't forget to train on at least 160000 to see the best effects\n",
        "test_portion=.1\n",
        "\n",
        "corpus = []"
      ],
      "execution_count": 1,
      "outputs": []
    },
    {
      "cell_type": "code",
      "metadata": {
        "id": "bM0l_dORKqE0",
        "outputId": "7e64dcc6-1050-4c7b-f989-820437016fb6",
        "colab": {
          "base_uri": "https://localhost:8080/"
        }
      },
      "source": [
        "# Note that I cleaned the Stanford dataset to remove LATIN1 encoding to make it easier for Python CSV reader\n",
        "# You can do that yourself with:\n",
        "# iconv -f LATIN1 -t UTF8 training.1600000.processed.noemoticon.csv -o training_cleaned.csv\n",
        "\n",
        "# training_cleaned.csv\n",
        "!gdown --id 1wd8KaeCSHxt-nEpMeuHFSNWrDp8joUXJ\n",
        "\n",
        "num_sentences = 0\n",
        "\n",
        "with open(\"./training_cleaned.csv\") as csvfile:\n",
        "    reader = csv.reader(csvfile, delimiter=',')\n",
        "    for row in reader:\n",
        "      list_item=[]\n",
        "      \n",
        "      ### START CODE HERE\n",
        "      # Create list items where the first item is the text, found in row[5], and the second is the label. Note that the label is a '0' or a '4' in the text. When it's the former, make\n",
        "      # your label to be 0, otherwise 1. Keep a count of the number of sentences in num_sentences\n",
        "      list_item.append(row[5])\n",
        "      this_label=row[0]\n",
        "      if this_label=='0':\n",
        "        list_item.append(0)\n",
        "      else:\n",
        "        list_item.append(1)\n",
        "      ### END CODE HERE\n",
        "      \n",
        "      num_sentences = num_sentences + 1\n",
        "      corpus.append(list_item)"
      ],
      "execution_count": 3,
      "outputs": [
        {
          "output_type": "stream",
          "name": "stdout",
          "text": [
            "Downloading...\n",
            "From: https://drive.google.com/uc?id=1wd8KaeCSHxt-nEpMeuHFSNWrDp8joUXJ\n",
            "To: /content/training_cleaned.csv\n",
            "100% 239M/239M [00:02<00:00, 119MB/s]\n"
          ]
        }
      ]
    },
    {
      "cell_type": "code",
      "metadata": {
        "id": "3kxblBUjEUX-",
        "outputId": "dee7b3a5-a368-46e7-811e-decbf2834b0d",
        "colab": {
          "base_uri": "https://localhost:8080/"
        }
      },
      "source": [
        "print(num_sentences)\n",
        "print(len(corpus))\n",
        "print(corpus[1])\n",
        "\n",
        "# Expected Output:\n",
        "# 1600000\n",
        "# 1600000\n",
        "# [\"is upset that he can't update his Facebook by texting it... and might cry as a result  School today also. Blah!\", 0]"
      ],
      "execution_count": 4,
      "outputs": [
        {
          "output_type": "stream",
          "name": "stdout",
          "text": [
            "1600000\n",
            "1600000\n",
            "[\"is upset that he can't update his Facebook by texting it... and might cry as a result  School today also. Blah!\", 0]\n"
          ]
        }
      ]
    },
    {
      "cell_type": "code",
      "metadata": {
        "id": "ohOGz24lsNAD"
      },
      "source": [
        "sentences=[]\n",
        "labels=[]\n",
        "random.shuffle(corpus)\n",
        "for x in range(training_size):\n",
        "  sentences.append(corpus[x][0]) # YOUR CODE HERE\n",
        "  labels.append(corpus[x][1]) # YOUR CODE HERE\n",
        "\n",
        "tokenizer = Tokenizer()\n",
        "tokenizer.fit_on_texts(sentences) # YOUR CODE HERE\n",
        "\n",
        "word_index = tokenizer.word_index\n",
        "vocab_size=len(word_index) # YOUR CODE HERE\n",
        "\n",
        "sequences = tokenizer.texts_to_sequences(sentences) # YOUR CODE HERE\n",
        "padded = pad_sequences(sequences, maxlen=max_length, padding=padding_type, truncating=trunc_type) # YOUR CODE HERE\n",
        "\n",
        "split = int(test_portion * training_size)\n",
        "\n",
        "test_sequences = padded[0:split] # YOUR CODE HERE\n",
        "training_sequences = padded[split:training_size] # YOUR CODE HERE\n",
        "test_labels = labels[0:split] # YOUR CODE HERE\n",
        "training_labels = labels[split:training_size] # YOUR CODE HERE"
      ],
      "execution_count": 5,
      "outputs": []
    },
    {
      "cell_type": "code",
      "metadata": {
        "id": "gIrtRem1En3N",
        "outputId": "7fee5579-571a-445c-9dc8-2e163341f24a",
        "colab": {
          "base_uri": "https://localhost:8080/"
        }
      },
      "source": [
        "print(vocab_size)\n",
        "print(word_index['i'])\n",
        "# Expected Output\n",
        "# 138856\n",
        "# 1"
      ],
      "execution_count": 6,
      "outputs": [
        {
          "output_type": "stream",
          "name": "stdout",
          "text": [
            "138762\n",
            "1\n"
          ]
        }
      ]
    },
    {
      "cell_type": "code",
      "metadata": {
        "id": "C1zdgJkusRh0",
        "outputId": "cafddd90-3a47-4438-cbc5-312f8f2bffad",
        "colab": {
          "base_uri": "https://localhost:8080/"
        }
      },
      "source": [
        "# Note this is the 100 dimension version of GloVe from Stanford\n",
        "\n",
        "# glove.6B.100d.txt\n",
        "!gdown --id 1W5vZy2etitAblLdFn8_DxnsQKzfFJ98g\n",
        "\n",
        "embeddings_index = {};\n",
        "with open('./glove.6B.100d.txt') as f:\n",
        "    for line in f:\n",
        "        values = line.split();\n",
        "        word = values[0];\n",
        "        coefs = np.asarray(values[1:], dtype='float32');\n",
        "        embeddings_index[word] = coefs;\n",
        "\n",
        "embeddings_matrix = np.zeros((vocab_size+1, embedding_dim));\n",
        "for word, i in word_index.items():\n",
        "  embedding_vector = embeddings_index.get(word);\n",
        "  if embedding_vector is not None:\n",
        "    embeddings_matrix[i] = embedding_vector;"
      ],
      "execution_count": 7,
      "outputs": [
        {
          "output_type": "stream",
          "name": "stdout",
          "text": [
            "Downloading...\n",
            "From: https://drive.google.com/uc?id=1W5vZy2etitAblLdFn8_DxnsQKzfFJ98g\n",
            "To: /content/glove.6B.100d.txt\n",
            "100% 347M/347M [00:02<00:00, 130MB/s]\n"
          ]
        }
      ]
    },
    {
      "cell_type": "code",
      "metadata": {
        "id": "71NLk_lpFLNt",
        "outputId": "89553b83-1b87-448f-853f-9a828d02d3dc",
        "colab": {
          "base_uri": "https://localhost:8080/"
        }
      },
      "source": [
        "print(len(embeddings_matrix))\n",
        "# Expected Output\n",
        "# 138857"
      ],
      "execution_count": 8,
      "outputs": [
        {
          "output_type": "stream",
          "name": "stdout",
          "text": [
            "138763\n"
          ]
        }
      ]
    },
    {
      "cell_type": "code",
      "metadata": {
        "id": "iKKvbuEBOGFz",
        "outputId": "103ffc34-a4c2-43fc-c134-8a723818c570",
        "colab": {
          "base_uri": "https://localhost:8080/"
        }
      },
      "source": [
        "model = tf.keras.Sequential([\n",
        "  tf.keras.layers.Embedding(vocab_size+1, embedding_dim, input_length=max_length, weights=[embeddings_matrix], trainable=False),\n",
        "  # YOUR CODE HERE - experiment with combining different types, such as convolutions and LSTMs\n",
        "  tf.keras.layers.Dropout(0.2),\n",
        "  tf.keras.layers.Conv1D(64, 5, activation='relu'),\n",
        "  tf.keras.layers.MaxPooling1D(pool_size=4),\n",
        "  tf.keras.layers.LSTM(64),\n",
        "  tf.keras.layers.Dense(1, activation='sigmoid')\n",
        "])\n",
        "model.compile(\n",
        "  loss='binary_crossentropy',\n",
        "  optimizer='adam',\n",
        "  metrics=['accuracy']\n",
        ") # YOUR CODE HERE\n",
        "model.summary(line_length = 100)\n",
        "\n",
        "num_epochs = 50\n",
        "\n",
        "training_padded = np.array(training_sequences)\n",
        "training_labels = np.array(training_labels)\n",
        "testing_padded = np.array(test_sequences)\n",
        "testing_labels = np.array(test_labels)\n",
        "\n",
        "history = model.fit(\n",
        "  training_padded, \n",
        "  training_labels, \n",
        "  epochs=num_epochs, \n",
        "  validation_data=(\n",
        "    testing_padded, \n",
        "    testing_labels\n",
        "  ), \n",
        "  verbose=2\n",
        ")\n",
        "\n",
        "print(\"Training Complete\")"
      ],
      "execution_count": 12,
      "outputs": [
        {
          "output_type": "stream",
          "name": "stdout",
          "text": [
            "Model: \"sequential_3\"\n",
            "____________________________________________________________________________________________________\n",
            " Layer (type)                                Output Shape                            Param #        \n",
            "====================================================================================================\n",
            " embedding_3 (Embedding)                     (None, 16, 100)                         13876300       \n",
            "                                                                                                    \n",
            " dropout_3 (Dropout)                         (None, 16, 100)                         0              \n",
            "                                                                                                    \n",
            " conv1d_3 (Conv1D)                           (None, 12, 64)                          32064          \n",
            "                                                                                                    \n",
            " max_pooling1d_3 (MaxPooling1D)              (None, 3, 64)                           0              \n",
            "                                                                                                    \n",
            " lstm_3 (LSTM)                               (None, 64)                              33024          \n",
            "                                                                                                    \n",
            " dense_3 (Dense)                             (None, 1)                               65             \n",
            "                                                                                                    \n",
            "====================================================================================================\n",
            "Total params: 13,941,453\n",
            "Trainable params: 65,153\n",
            "Non-trainable params: 13,876,300\n",
            "____________________________________________________________________________________________________\n",
            "Epoch 1/50\n",
            "4500/4500 - 22s - loss: 0.5656 - accuracy: 0.7025 - val_loss: 0.5361 - val_accuracy: 0.7239 - 22s/epoch - 5ms/step\n",
            "Epoch 2/50\n",
            "4500/4500 - 20s - loss: 0.5242 - accuracy: 0.7343 - val_loss: 0.5113 - val_accuracy: 0.7476 - 20s/epoch - 4ms/step\n",
            "Epoch 3/50\n",
            "4500/4500 - 20s - loss: 0.5076 - accuracy: 0.7470 - val_loss: 0.5147 - val_accuracy: 0.7439 - 20s/epoch - 4ms/step\n",
            "Epoch 4/50\n",
            "4500/4500 - 19s - loss: 0.4963 - accuracy: 0.7542 - val_loss: 0.4990 - val_accuracy: 0.7536 - 19s/epoch - 4ms/step\n",
            "Epoch 5/50\n",
            "4500/4500 - 21s - loss: 0.4875 - accuracy: 0.7605 - val_loss: 0.5040 - val_accuracy: 0.7527 - 21s/epoch - 5ms/step\n",
            "Epoch 6/50\n",
            "4500/4500 - 20s - loss: 0.4813 - accuracy: 0.7642 - val_loss: 0.4975 - val_accuracy: 0.7556 - 20s/epoch - 4ms/step\n",
            "Epoch 7/50\n",
            "4500/4500 - 20s - loss: 0.4740 - accuracy: 0.7693 - val_loss: 0.5132 - val_accuracy: 0.7516 - 20s/epoch - 4ms/step\n",
            "Epoch 8/50\n",
            "4500/4500 - 19s - loss: 0.4699 - accuracy: 0.7715 - val_loss: 0.4988 - val_accuracy: 0.7556 - 19s/epoch - 4ms/step\n",
            "Epoch 9/50\n",
            "4500/4500 - 19s - loss: 0.4646 - accuracy: 0.7743 - val_loss: 0.4998 - val_accuracy: 0.7555 - 19s/epoch - 4ms/step\n",
            "Epoch 10/50\n",
            "4500/4500 - 19s - loss: 0.4607 - accuracy: 0.7764 - val_loss: 0.5025 - val_accuracy: 0.7499 - 19s/epoch - 4ms/step\n",
            "Epoch 11/50\n",
            "4500/4500 - 20s - loss: 0.4591 - accuracy: 0.7777 - val_loss: 0.5091 - val_accuracy: 0.7496 - 20s/epoch - 4ms/step\n",
            "Epoch 12/50\n",
            "4500/4500 - 19s - loss: 0.4537 - accuracy: 0.7812 - val_loss: 0.5027 - val_accuracy: 0.7528 - 19s/epoch - 4ms/step\n",
            "Epoch 13/50\n",
            "4500/4500 - 20s - loss: 0.4541 - accuracy: 0.7810 - val_loss: 0.5048 - val_accuracy: 0.7560 - 20s/epoch - 4ms/step\n",
            "Epoch 14/50\n",
            "4500/4500 - 19s - loss: 0.4493 - accuracy: 0.7829 - val_loss: 0.5105 - val_accuracy: 0.7546 - 19s/epoch - 4ms/step\n",
            "Epoch 15/50\n",
            "4500/4500 - 19s - loss: 0.4473 - accuracy: 0.7842 - val_loss: 0.5106 - val_accuracy: 0.7536 - 19s/epoch - 4ms/step\n",
            "Epoch 16/50\n",
            "4500/4500 - 19s - loss: 0.4465 - accuracy: 0.7855 - val_loss: 0.5091 - val_accuracy: 0.7521 - 19s/epoch - 4ms/step\n",
            "Epoch 17/50\n",
            "4500/4500 - 21s - loss: 0.4436 - accuracy: 0.7865 - val_loss: 0.5104 - val_accuracy: 0.7552 - 21s/epoch - 5ms/step\n",
            "Epoch 18/50\n",
            "4500/4500 - 19s - loss: 0.4439 - accuracy: 0.7868 - val_loss: 0.5065 - val_accuracy: 0.7567 - 19s/epoch - 4ms/step\n",
            "Epoch 19/50\n",
            "4500/4500 - 20s - loss: 0.4411 - accuracy: 0.7889 - val_loss: 0.5084 - val_accuracy: 0.7558 - 20s/epoch - 4ms/step\n",
            "Epoch 20/50\n",
            "4500/4500 - 19s - loss: 0.4400 - accuracy: 0.7900 - val_loss: 0.5146 - val_accuracy: 0.7524 - 19s/epoch - 4ms/step\n",
            "Epoch 21/50\n",
            "4500/4500 - 20s - loss: 0.4384 - accuracy: 0.7896 - val_loss: 0.5115 - val_accuracy: 0.7533 - 20s/epoch - 4ms/step\n",
            "Epoch 22/50\n",
            "4500/4500 - 20s - loss: 0.4373 - accuracy: 0.7912 - val_loss: 0.5136 - val_accuracy: 0.7516 - 20s/epoch - 4ms/step\n",
            "Epoch 23/50\n",
            "4500/4500 - 20s - loss: 0.4360 - accuracy: 0.7916 - val_loss: 0.5176 - val_accuracy: 0.7515 - 20s/epoch - 4ms/step\n",
            "Epoch 24/50\n",
            "4500/4500 - 19s - loss: 0.4355 - accuracy: 0.7914 - val_loss: 0.5135 - val_accuracy: 0.7542 - 19s/epoch - 4ms/step\n",
            "Epoch 25/50\n",
            "4500/4500 - 20s - loss: 0.4353 - accuracy: 0.7918 - val_loss: 0.5139 - val_accuracy: 0.7531 - 20s/epoch - 4ms/step\n",
            "Epoch 26/50\n",
            "4500/4500 - 21s - loss: 0.4341 - accuracy: 0.7930 - val_loss: 0.5144 - val_accuracy: 0.7545 - 21s/epoch - 5ms/step\n",
            "Epoch 27/50\n",
            "4500/4500 - 19s - loss: 0.4330 - accuracy: 0.7933 - val_loss: 0.5140 - val_accuracy: 0.7518 - 19s/epoch - 4ms/step\n",
            "Epoch 28/50\n",
            "4500/4500 - 19s - loss: 0.4341 - accuracy: 0.7939 - val_loss: 0.5128 - val_accuracy: 0.7521 - 19s/epoch - 4ms/step\n",
            "Epoch 29/50\n",
            "4500/4500 - 19s - loss: 0.4304 - accuracy: 0.7945 - val_loss: 0.5133 - val_accuracy: 0.7547 - 19s/epoch - 4ms/step\n",
            "Epoch 30/50\n",
            "4500/4500 - 19s - loss: 0.4304 - accuracy: 0.7949 - val_loss: 0.5198 - val_accuracy: 0.7487 - 19s/epoch - 4ms/step\n",
            "Epoch 31/50\n",
            "4500/4500 - 19s - loss: 0.4310 - accuracy: 0.7947 - val_loss: 0.5233 - val_accuracy: 0.7531 - 19s/epoch - 4ms/step\n",
            "Epoch 32/50\n",
            "4500/4500 - 20s - loss: 0.4304 - accuracy: 0.7954 - val_loss: 0.5184 - val_accuracy: 0.7524 - 20s/epoch - 4ms/step\n",
            "Epoch 33/50\n",
            "4500/4500 - 20s - loss: 0.4304 - accuracy: 0.7944 - val_loss: 0.5202 - val_accuracy: 0.7466 - 20s/epoch - 4ms/step\n",
            "Epoch 34/50\n",
            "4500/4500 - 19s - loss: 0.4290 - accuracy: 0.7959 - val_loss: 0.5170 - val_accuracy: 0.7493 - 19s/epoch - 4ms/step\n",
            "Epoch 35/50\n",
            "4500/4500 - 19s - loss: 0.4284 - accuracy: 0.7954 - val_loss: 0.5161 - val_accuracy: 0.7483 - 19s/epoch - 4ms/step\n",
            "Epoch 36/50\n",
            "4500/4500 - 21s - loss: 0.4287 - accuracy: 0.7962 - val_loss: 0.5252 - val_accuracy: 0.7495 - 21s/epoch - 5ms/step\n",
            "Epoch 37/50\n",
            "4500/4500 - 19s - loss: 0.4277 - accuracy: 0.7961 - val_loss: 0.5260 - val_accuracy: 0.7508 - 19s/epoch - 4ms/step\n",
            "Epoch 38/50\n",
            "4500/4500 - 19s - loss: 0.4281 - accuracy: 0.7966 - val_loss: 0.5166 - val_accuracy: 0.7508 - 19s/epoch - 4ms/step\n",
            "Epoch 39/50\n",
            "4500/4500 - 19s - loss: 0.4274 - accuracy: 0.7964 - val_loss: 0.5199 - val_accuracy: 0.7544 - 19s/epoch - 4ms/step\n",
            "Epoch 40/50\n",
            "4500/4500 - 19s - loss: 0.4269 - accuracy: 0.7965 - val_loss: 0.5198 - val_accuracy: 0.7546 - 19s/epoch - 4ms/step\n",
            "Epoch 41/50\n",
            "4500/4500 - 20s - loss: 0.4252 - accuracy: 0.7987 - val_loss: 0.5204 - val_accuracy: 0.7513 - 20s/epoch - 5ms/step\n",
            "Epoch 42/50\n",
            "4500/4500 - 19s - loss: 0.4282 - accuracy: 0.7966 - val_loss: 0.5220 - val_accuracy: 0.7517 - 19s/epoch - 4ms/step\n",
            "Epoch 43/50\n",
            "4500/4500 - 19s - loss: 0.4260 - accuracy: 0.7965 - val_loss: 0.5241 - val_accuracy: 0.7513 - 19s/epoch - 4ms/step\n",
            "Epoch 44/50\n",
            "4500/4500 - 19s - loss: 0.4269 - accuracy: 0.7963 - val_loss: 0.5228 - val_accuracy: 0.7468 - 19s/epoch - 4ms/step\n",
            "Epoch 45/50\n",
            "4500/4500 - 19s - loss: 0.4261 - accuracy: 0.7976 - val_loss: 0.5226 - val_accuracy: 0.7496 - 19s/epoch - 4ms/step\n",
            "Epoch 46/50\n",
            "4500/4500 - 20s - loss: 0.4250 - accuracy: 0.7977 - val_loss: 0.5231 - val_accuracy: 0.7513 - 20s/epoch - 5ms/step\n",
            "Epoch 47/50\n",
            "4500/4500 - 19s - loss: 0.4234 - accuracy: 0.8002 - val_loss: 0.5205 - val_accuracy: 0.7534 - 19s/epoch - 4ms/step\n",
            "Epoch 48/50\n",
            "4500/4500 - 19s - loss: 0.4249 - accuracy: 0.7992 - val_loss: 0.5195 - val_accuracy: 0.7524 - 19s/epoch - 4ms/step\n",
            "Epoch 49/50\n",
            "4500/4500 - 19s - loss: 0.4249 - accuracy: 0.7988 - val_loss: 0.5257 - val_accuracy: 0.7466 - 19s/epoch - 4ms/step\n",
            "Epoch 50/50\n",
            "4500/4500 - 19s - loss: 0.4244 - accuracy: 0.7991 - val_loss: 0.5162 - val_accuracy: 0.7532 - 19s/epoch - 4ms/step\n",
            "Training Complete\n"
          ]
        }
      ]
    },
    {
      "cell_type": "code",
      "metadata": {
        "id": "qxju4ItJKO8F",
        "outputId": "31050365-1e90-4e12-ebd3-5bea784fa077",
        "colab": {
          "base_uri": "https://localhost:8080/",
          "height": 608
        }
      },
      "source": [
        "import matplotlib.image  as mpimg\n",
        "import matplotlib.pyplot as plt\n",
        "\n",
        "#-----------------------------------------------------------\n",
        "# Retrieve a list of list results on training and test data\n",
        "# sets for each training epoch\n",
        "#-----------------------------------------------------------\n",
        "acc=history.history['accuracy']\n",
        "val_acc=history.history['val_accuracy']\n",
        "loss=history.history['loss']\n",
        "val_loss=history.history['val_loss']\n",
        "\n",
        "epochs=range(len(acc)) # Get number of epochs\n",
        "\n",
        "#------------------------------------------------\n",
        "# Plot training and validation accuracy per epoch\n",
        "#------------------------------------------------\n",
        "plt.plot(epochs, acc, 'r')\n",
        "plt.plot(epochs, val_acc, 'b')\n",
        "plt.title('Training and validation accuracy')\n",
        "plt.xlabel(\"Epochs\")\n",
        "plt.ylabel(\"Accuracy\")\n",
        "plt.legend([\"Accuracy\", \"Validation Accuracy\"])\n",
        "\n",
        "plt.figure()\n",
        "\n",
        "#------------------------------------------------\n",
        "# Plot training and validation loss per epoch\n",
        "#------------------------------------------------\n",
        "plt.plot(epochs, loss, 'r')\n",
        "plt.plot(epochs, val_loss, 'b')\n",
        "plt.title('Training and validation loss')\n",
        "plt.xlabel(\"Epochs\")\n",
        "plt.ylabel(\"Loss\")\n",
        "plt.legend([\"Loss\", \"Validation Loss\"])\n",
        "\n",
        "plt.figure()\n",
        "\n",
        "# Expected Output\n",
        "# A chart where the validation loss does not increase sharply!"
      ],
      "execution_count": 13,
      "outputs": [
        {
          "output_type": "execute_result",
          "data": {
            "text/plain": [
              "<Figure size 432x288 with 0 Axes>"
            ]
          },
          "metadata": {},
          "execution_count": 13
        },
        {
          "output_type": "display_data",
          "data": {
            "image/png": "[encoded data removed]",
            "text/plain": [
              "<Figure size 432x288 with 1 Axes>"
            ]
          },
          "metadata": {
            "needs_background": "light"
          }
        },
        {
          "output_type": "display_data",
          "data": {
            "image/png": "[encoded data removed]",
            "text/plain": [
              "<Figure size 432x288 with 1 Axes>"
            ]
          },
          "metadata": {
            "needs_background": "light"
          }
        },
        {
          "output_type": "display_data",
          "data": {
            "text/plain": [
              "<Figure size 432x288 with 0 Axes>"
            ]
          },
          "metadata": {}
        }
      ]
    },
    {
      "cell_type": "code",
      "source": [
        ""
      ],
      "metadata": {
        "id": "kUCtC3XlChw3"
      },
      "execution_count": null,
      "outputs": []
    }
  ]
}