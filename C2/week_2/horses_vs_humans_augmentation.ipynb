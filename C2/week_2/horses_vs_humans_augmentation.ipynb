{
  "nbformat": 4,
  "nbformat_minor": 0,
  "metadata": {
    "colab": {
      "name": "horses_vs_humans_augmentation.ipynb",
      "provenance": []
    },
    "kernelspec": {
      "name": "python3",
      "display_name": "Python 3"
    },
    "language_info": {
      "name": "python"
    }
  },
  "cells": [
    {
      "cell_type": "code",
      "metadata": {
        "colab": {
          "base_uri": "https://localhost:8080/"
        },
        "id": "yD9BLRTnrQNK",
        "outputId": "04b50f76-5647-4ae7-be2a-dfdf53572e11"
      },
      "source": [
        "# horses-or-humans dataset\n",
        "!gdown --id 1onaG42NZft3wCE1WH0GDEbUhu75fedP5\n",
        "\n",
        "# horses-or-humans validation dataset\n",
        "!gdown --id 1LYeusSEIiZQpwN-mthh5nKdA75VsKG1U"
      ],
      "execution_count": 1,
      "outputs": [
        {
          "output_type": "stream",
          "name": "stdout",
          "text": [
            "Downloading...\n",
            "From: https://drive.google.com/uc?id=1onaG42NZft3wCE1WH0GDEbUhu75fedP5\n",
            "To: /content/horse-or-human.zip\n",
            "100% 150M/150M [00:02<00:00, 69.1MB/s]\n",
            "Downloading...\n",
            "From: https://drive.google.com/uc?id=1LYeusSEIiZQpwN-mthh5nKdA75VsKG1U\n",
            "To: /content/validation-horse-or-human.zip\n",
            "100% 11.5M/11.5M [00:00<00:00, 36.5MB/s]\n"
          ]
        }
      ]
    },
    {
      "cell_type": "code",
      "metadata": {
        "id": "498a1uL0rbrY"
      },
      "source": [
        "import os\n",
        "import zipfile\n",
        "\n",
        "zip_ref = zipfile.ZipFile('./horse-or-human.zip', 'r')\n",
        "zip_ref.extractall('tmp/horse-or-human')\n",
        "\n",
        "zip_ref = zipfile.ZipFile('./validation-horse-or-human.zip', 'r')\n",
        "zip_ref.extractall('tmp/validation-horse-or-human')\n",
        "\n",
        "zip_ref.close()\n",
        "\n",
        "# Directory with our training horse pictures\n",
        "train_horse_dir = os.path.join('tmp/horse-or-human/horses')\n",
        "\n",
        "# Directory with our training human pictures\n",
        "train_human_dir = os.path.join('tmp/horse-or-human/humans')\n",
        "\n",
        "# Directory with our training horse pictures\n",
        "validation_horse_dir = os.path.join('tmp/validation-horse-or-human/horses')\n",
        "\n",
        "# Directory with our training human pictures\n",
        "validation_human_dir = os.path.join('tmp/validation-horse-or-human/humans')"
      ],
      "execution_count": 2,
      "outputs": []
    },
    {
      "cell_type": "code",
      "metadata": {
        "id": "km_Z-cE7rgAC"
      },
      "source": [
        "import tensorflow as tf"
      ],
      "execution_count": 3,
      "outputs": []
    },
    {
      "cell_type": "code",
      "metadata": {
        "id": "Ot4Y3lY9rnEd"
      },
      "source": [
        "model = tf.keras.models.Sequential([\n",
        "  # Note the input shape is the desired size of the image 300x300 with 3 bytes color\n",
        "  # This is the first convolution\n",
        "  tf.keras.layers.Conv2D(16, (3,3), activation='relu', input_shape=(300, 300, 3)),\n",
        "  tf.keras.layers.MaxPooling2D(2, 2),\n",
        "\n",
        "  # The second convolution\n",
        "  tf.keras.layers.Conv2D(32, (3,3), activation='relu'),\n",
        "  tf.keras.layers.MaxPooling2D(2,2),\n",
        "\n",
        "  # The third convolution\n",
        "  tf.keras.layers.Conv2D(64, (3,3), activation='relu'),\n",
        "  tf.keras.layers.MaxPooling2D(2,2),\n",
        "\n",
        "  # The fourth convolution\n",
        "  tf.keras.layers.Conv2D(64, (3,3), activation='relu'),\n",
        "  tf.keras.layers.MaxPooling2D(2,2),\n",
        "\n",
        "  # The fifth convolution\n",
        "  tf.keras.layers.Conv2D(64, (3,3), activation='relu'),\n",
        "  tf.keras.layers.MaxPooling2D(2,2),\n",
        "\n",
        "  # Flatten the results to feed into a DNN\n",
        "  tf.keras.layers.Flatten(),\n",
        "\n",
        "  # 512 neuron hidden layer\n",
        "  tf.keras.layers.Dense(512, activation='relu'),\n",
        "  \n",
        "  # Only 1 output neuron. It will contain a value from 0-1 where 0 for 1 class ('horses') and 1 for the other ('humans')\n",
        "  tf.keras.layers.Dense(1, activation='sigmoid')\n",
        "])"
      ],
      "execution_count": 4,
      "outputs": []
    },
    {
      "cell_type": "code",
      "metadata": {
        "id": "AExGV3vBrpXk"
      },
      "source": [
        "from tensorflow.keras.optimizers import RMSprop\n",
        "\n",
        "model.compile(loss='binary_crossentropy',\n",
        "              optimizer=RMSprop(learning_rate=1e-4),\n",
        "              metrics=['accuracy'])"
      ],
      "execution_count": 5,
      "outputs": []
    },
    {
      "cell_type": "code",
      "metadata": {
        "colab": {
          "base_uri": "https://localhost:8080/"
        },
        "id": "zwL5hEJ6rrO_",
        "outputId": "a4bbe1d9-3c00-4a84-cbc6-5591cd5a1433"
      },
      "source": [
        "from tensorflow.keras.preprocessing.image import ImageDataGenerator\n",
        "\n",
        "# All images will be rescaled by 1./255\n",
        "train_datagen = ImageDataGenerator(\n",
        "      rescale=1./255,\n",
        "      rotation_range=40,\n",
        "      width_shift_range=0.2,\n",
        "      height_shift_range=0.2,\n",
        "      shear_range=0.2,\n",
        "      zoom_range=0.2,\n",
        "      horizontal_flip=True,\n",
        "      fill_mode='nearest')\n",
        "\n",
        "validation_datagen = ImageDataGenerator(rescale=1/255)\n",
        "\n",
        "# Flow training images in batches of 128 using train_datagen generator\n",
        "train_generator = train_datagen.flow_from_directory(\n",
        "        'tmp/horse-or-human/',  # This is the source directory for training images\n",
        "        target_size=(300, 300),  # All images will be resized to 150x150\n",
        "        batch_size=128,\n",
        "        # Since we use binary_crossentropy loss, we need binary labels\n",
        "        class_mode='binary')\n",
        "\n",
        "# Flow training images in batches of 128 using train_datagen generator\n",
        "validation_generator = validation_datagen.flow_from_directory(\n",
        "        'tmp/validation-horse-or-human/',  # This is the source directory for training images\n",
        "        target_size=(300, 300),  # All images will be resized to 150x150\n",
        "        batch_size=32,\n",
        "        # Since we use binary_crossentropy loss, we need binary labels\n",
        "        class_mode='binary')"
      ],
      "execution_count": 6,
      "outputs": [
        {
          "output_type": "stream",
          "name": "stdout",
          "text": [
            "Found 1027 images belonging to 2 classes.\n",
            "Found 256 images belonging to 2 classes.\n"
          ]
        }
      ]
    },
    {
      "cell_type": "code",
      "metadata": {
        "colab": {
          "base_uri": "https://localhost:8080/"
        },
        "id": "ZYFB-YeQrtrf",
        "outputId": "f6ba6c81-092e-42ee-94cd-3c587a1ca92c"
      },
      "source": [
        "history = model.fit(\n",
        "      train_generator,\n",
        "      steps_per_epoch=8,  \n",
        "      epochs=100,\n",
        "      verbose=1,\n",
        "      validation_data = validation_generator,\n",
        "      validation_steps=8)"
      ],
      "execution_count": 7,
      "outputs": [
        {
          "output_type": "stream",
          "name": "stdout",
          "text": [
            "Epoch 1/100\n",
            "8/8 [==============================] - 102s 14s/step - loss: 0.6940 - accuracy: 0.5729 - val_loss: 0.6658 - val_accuracy: 0.7969\n",
            "Epoch 2/100\n",
            "8/8 [==============================] - 109s 13s/step - loss: 0.6747 - accuracy: 0.6123 - val_loss: 0.6146 - val_accuracy: 0.7344\n",
            "Epoch 3/100\n",
            "8/8 [==============================] - 101s 12s/step - loss: 0.6669 - accuracy: 0.5762 - val_loss: 0.5672 - val_accuracy: 0.7773\n",
            "Epoch 4/100\n",
            "8/8 [==============================] - 100s 12s/step - loss: 0.6377 - accuracy: 0.6719 - val_loss: 0.5909 - val_accuracy: 0.6172\n",
            "Epoch 5/100\n",
            "8/8 [==============================] - 110s 13s/step - loss: 0.6288 - accuracy: 0.6543 - val_loss: 0.4853 - val_accuracy: 0.7812\n",
            "Epoch 6/100\n",
            "8/8 [==============================] - 100s 12s/step - loss: 0.6154 - accuracy: 0.6652 - val_loss: 0.7865 - val_accuracy: 0.5312\n",
            "Epoch 7/100\n",
            "8/8 [==============================] - 110s 13s/step - loss: 0.5826 - accuracy: 0.7061 - val_loss: 0.4355 - val_accuracy: 0.8047\n",
            "Epoch 8/100\n",
            "8/8 [==============================] - 104s 13s/step - loss: 0.5619 - accuracy: 0.7186 - val_loss: 0.3512 - val_accuracy: 0.8555\n",
            "Epoch 9/100\n",
            "8/8 [==============================] - 100s 12s/step - loss: 0.5611 - accuracy: 0.6997 - val_loss: 0.4629 - val_accuracy: 0.8008\n",
            "Epoch 10/100\n",
            "8/8 [==============================] - 100s 12s/step - loss: 0.5393 - accuracy: 0.7230 - val_loss: 0.6027 - val_accuracy: 0.6836\n",
            "Epoch 11/100\n",
            "8/8 [==============================] - 101s 12s/step - loss: 0.5605 - accuracy: 0.7219 - val_loss: 0.5353 - val_accuracy: 0.7500\n",
            "Epoch 12/100\n",
            "8/8 [==============================] - 100s 12s/step - loss: 0.4914 - accuracy: 0.7775 - val_loss: 0.2836 - val_accuracy: 0.9258\n",
            "Epoch 13/100\n",
            "8/8 [==============================] - 101s 12s/step - loss: 0.5543 - accuracy: 0.7341 - val_loss: 0.5012 - val_accuracy: 0.7891\n",
            "Epoch 14/100\n",
            "8/8 [==============================] - 101s 12s/step - loss: 0.4743 - accuracy: 0.7798 - val_loss: 0.7194 - val_accuracy: 0.7188\n",
            "Epoch 15/100\n",
            "8/8 [==============================] - 110s 13s/step - loss: 0.4912 - accuracy: 0.7744 - val_loss: 0.6439 - val_accuracy: 0.7422\n",
            "Epoch 16/100\n",
            "8/8 [==============================] - 110s 13s/step - loss: 0.4597 - accuracy: 0.7764 - val_loss: 0.8557 - val_accuracy: 0.6953\n",
            "Epoch 17/100\n",
            "8/8 [==============================] - 101s 12s/step - loss: 0.4745 - accuracy: 0.7709 - val_loss: 0.7069 - val_accuracy: 0.7227\n",
            "Epoch 18/100\n",
            "8/8 [==============================] - 101s 12s/step - loss: 0.4711 - accuracy: 0.7709 - val_loss: 0.9465 - val_accuracy: 0.6797\n",
            "Epoch 19/100\n",
            "8/8 [==============================] - 105s 13s/step - loss: 0.4360 - accuracy: 0.7931 - val_loss: 0.7721 - val_accuracy: 0.7109\n",
            "Epoch 20/100\n",
            "8/8 [==============================] - 101s 12s/step - loss: 0.4396 - accuracy: 0.7964 - val_loss: 0.5700 - val_accuracy: 0.7852\n",
            "Epoch 21/100\n",
            "8/8 [==============================] - 100s 12s/step - loss: 0.4250 - accuracy: 0.8076 - val_loss: 0.6839 - val_accuracy: 0.7500\n",
            "Epoch 22/100\n",
            "8/8 [==============================] - 110s 13s/step - loss: 0.3968 - accuracy: 0.8340 - val_loss: 0.8656 - val_accuracy: 0.7109\n",
            "Epoch 23/100\n",
            "8/8 [==============================] - 101s 12s/step - loss: 0.3919 - accuracy: 0.8354 - val_loss: 0.8340 - val_accuracy: 0.7188\n",
            "Epoch 24/100\n",
            "8/8 [==============================] - 100s 12s/step - loss: 0.4182 - accuracy: 0.8065 - val_loss: 1.7057 - val_accuracy: 0.5820\n",
            "Epoch 25/100\n",
            "8/8 [==============================] - 101s 12s/step - loss: 0.4365 - accuracy: 0.8053 - val_loss: 1.0952 - val_accuracy: 0.6680\n",
            "Epoch 26/100\n",
            "8/8 [==============================] - 101s 12s/step - loss: 0.3611 - accuracy: 0.8565 - val_loss: 1.0109 - val_accuracy: 0.6914\n",
            "Epoch 27/100\n",
            "8/8 [==============================] - 100s 12s/step - loss: 0.3393 - accuracy: 0.8598 - val_loss: 0.9616 - val_accuracy: 0.7031\n",
            "Epoch 28/100\n",
            "8/8 [==============================] - 100s 12s/step - loss: 0.3702 - accuracy: 0.8242 - val_loss: 1.4883 - val_accuracy: 0.6406\n",
            "Epoch 29/100\n",
            "8/8 [==============================] - 100s 12s/step - loss: 0.3833 - accuracy: 0.8109 - val_loss: 0.9622 - val_accuracy: 0.6953\n",
            "Epoch 30/100\n",
            "8/8 [==============================] - 100s 12s/step - loss: 0.4470 - accuracy: 0.8209 - val_loss: 1.1099 - val_accuracy: 0.6953\n",
            "Epoch 31/100\n",
            "8/8 [==============================] - 100s 12s/step - loss: 0.3691 - accuracy: 0.8565 - val_loss: 0.9720 - val_accuracy: 0.6953\n",
            "Epoch 32/100\n",
            "8/8 [==============================] - 100s 14s/step - loss: 0.2956 - accuracy: 0.8910 - val_loss: 1.1972 - val_accuracy: 0.6914\n",
            "Epoch 33/100\n",
            "8/8 [==============================] - 101s 12s/step - loss: 0.3291 - accuracy: 0.8509 - val_loss: 0.7109 - val_accuracy: 0.7578\n",
            "Epoch 34/100\n",
            "8/8 [==============================] - 100s 12s/step - loss: 0.3181 - accuracy: 0.8654 - val_loss: 1.2684 - val_accuracy: 0.6953\n",
            "Epoch 35/100\n",
            "8/8 [==============================] - 100s 14s/step - loss: 0.3077 - accuracy: 0.8587 - val_loss: 1.0383 - val_accuracy: 0.7031\n",
            "Epoch 36/100\n",
            "8/8 [==============================] - 100s 14s/step - loss: 0.2700 - accuracy: 0.8877 - val_loss: 1.4195 - val_accuracy: 0.6836\n",
            "Epoch 37/100\n",
            "8/8 [==============================] - 101s 12s/step - loss: 0.2985 - accuracy: 0.8721 - val_loss: 1.2773 - val_accuracy: 0.6953\n",
            "Epoch 38/100\n",
            "8/8 [==============================] - 100s 12s/step - loss: 0.3141 - accuracy: 0.8654 - val_loss: 1.3567 - val_accuracy: 0.6914\n",
            "Epoch 39/100\n",
            "8/8 [==============================] - 101s 14s/step - loss: 0.2469 - accuracy: 0.8954 - val_loss: 1.4469 - val_accuracy: 0.7031\n",
            "Epoch 40/100\n",
            "8/8 [==============================] - 100s 14s/step - loss: 0.3291 - accuracy: 0.8610 - val_loss: 1.0596 - val_accuracy: 0.7266\n",
            "Epoch 41/100\n",
            "8/8 [==============================] - 101s 12s/step - loss: 0.2349 - accuracy: 0.9110 - val_loss: 1.2982 - val_accuracy: 0.7148\n",
            "Epoch 42/100\n",
            "8/8 [==============================] - 101s 12s/step - loss: 0.2650 - accuracy: 0.8921 - val_loss: 1.1127 - val_accuracy: 0.7266\n",
            "Epoch 43/100\n",
            "8/8 [==============================] - 110s 13s/step - loss: 0.2356 - accuracy: 0.9062 - val_loss: 0.9681 - val_accuracy: 0.7422\n",
            "Epoch 44/100\n",
            "8/8 [==============================] - 100s 12s/step - loss: 0.2565 - accuracy: 0.8943 - val_loss: 0.7818 - val_accuracy: 0.7812\n",
            "Epoch 45/100\n",
            "8/8 [==============================] - 100s 12s/step - loss: 0.2227 - accuracy: 0.9132 - val_loss: 0.9424 - val_accuracy: 0.7422\n",
            "Epoch 46/100\n",
            "8/8 [==============================] - 100s 12s/step - loss: 0.2555 - accuracy: 0.8877 - val_loss: 1.5386 - val_accuracy: 0.6953\n",
            "Epoch 47/100\n",
            "8/8 [==============================] - 101s 12s/step - loss: 0.1989 - accuracy: 0.9132 - val_loss: 2.4103 - val_accuracy: 0.6133\n",
            "Epoch 48/100\n",
            "8/8 [==============================] - 109s 13s/step - loss: 0.2461 - accuracy: 0.8896 - val_loss: 1.0055 - val_accuracy: 0.7539\n",
            "Epoch 49/100\n",
            "8/8 [==============================] - 110s 13s/step - loss: 0.1948 - accuracy: 0.9170 - val_loss: 1.3263 - val_accuracy: 0.7188\n",
            "Epoch 50/100\n",
            "8/8 [==============================] - 100s 12s/step - loss: 0.3167 - accuracy: 0.8687 - val_loss: 1.4476 - val_accuracy: 0.6797\n",
            "Epoch 51/100\n",
            "8/8 [==============================] - 100s 12s/step - loss: 0.2089 - accuracy: 0.9199 - val_loss: 1.3202 - val_accuracy: 0.7188\n",
            "Epoch 52/100\n",
            "8/8 [==============================] - 100s 12s/step - loss: 0.2160 - accuracy: 0.9132 - val_loss: 1.2209 - val_accuracy: 0.7188\n",
            "Epoch 53/100\n",
            "8/8 [==============================] - 110s 13s/step - loss: 0.1930 - accuracy: 0.9229 - val_loss: 1.4074 - val_accuracy: 0.7148\n",
            "Epoch 54/100\n",
            "8/8 [==============================] - 100s 12s/step - loss: 0.2397 - accuracy: 0.8977 - val_loss: 1.7928 - val_accuracy: 0.6914\n",
            "Epoch 55/100\n",
            "8/8 [==============================] - 100s 14s/step - loss: 0.1824 - accuracy: 0.9333 - val_loss: 0.9516 - val_accuracy: 0.7852\n",
            "Epoch 56/100\n",
            "8/8 [==============================] - 100s 12s/step - loss: 0.2436 - accuracy: 0.8932 - val_loss: 1.7216 - val_accuracy: 0.7031\n",
            "Epoch 57/100\n",
            "8/8 [==============================] - 100s 14s/step - loss: 0.1919 - accuracy: 0.9221 - val_loss: 1.8759 - val_accuracy: 0.6719\n",
            "Epoch 58/100\n",
            "8/8 [==============================] - 100s 12s/step - loss: 0.2056 - accuracy: 0.9188 - val_loss: 0.9980 - val_accuracy: 0.7812\n",
            "Epoch 59/100\n",
            "8/8 [==============================] - 100s 14s/step - loss: 0.1679 - accuracy: 0.9333 - val_loss: 1.9772 - val_accuracy: 0.6875\n",
            "Epoch 60/100\n",
            "8/8 [==============================] - 101s 12s/step - loss: 0.2715 - accuracy: 0.8821 - val_loss: 1.1560 - val_accuracy: 0.7383\n",
            "Epoch 61/100\n",
            "8/8 [==============================] - 105s 13s/step - loss: 0.1698 - accuracy: 0.9410 - val_loss: 1.4486 - val_accuracy: 0.7305\n",
            "Epoch 62/100\n",
            "8/8 [==============================] - 100s 14s/step - loss: 0.2631 - accuracy: 0.8954 - val_loss: 1.5415 - val_accuracy: 0.7227\n",
            "Epoch 63/100\n",
            "8/8 [==============================] - 101s 13s/step - loss: 0.1912 - accuracy: 0.9199 - val_loss: 1.9630 - val_accuracy: 0.6836\n",
            "Epoch 64/100\n",
            "8/8 [==============================] - 101s 12s/step - loss: 0.2146 - accuracy: 0.9155 - val_loss: 1.1811 - val_accuracy: 0.7500\n",
            "Epoch 65/100\n",
            "8/8 [==============================] - 101s 13s/step - loss: 0.1401 - accuracy: 0.9588 - val_loss: 1.8339 - val_accuracy: 0.7031\n",
            "Epoch 66/100\n",
            "8/8 [==============================] - 100s 14s/step - loss: 0.1974 - accuracy: 0.9143 - val_loss: 1.8261 - val_accuracy: 0.6914\n",
            "Epoch 67/100\n",
            "8/8 [==============================] - 101s 13s/step - loss: 0.2092 - accuracy: 0.9177 - val_loss: 1.3495 - val_accuracy: 0.7266\n",
            "Epoch 68/100\n",
            "8/8 [==============================] - 105s 13s/step - loss: 0.1544 - accuracy: 0.9388 - val_loss: 1.7336 - val_accuracy: 0.7148\n",
            "Epoch 69/100\n",
            "8/8 [==============================] - 100s 12s/step - loss: 0.1625 - accuracy: 0.9321 - val_loss: 1.1013 - val_accuracy: 0.7734\n",
            "Epoch 70/100\n",
            "8/8 [==============================] - 110s 13s/step - loss: 0.1695 - accuracy: 0.9287 - val_loss: 1.8246 - val_accuracy: 0.6992\n",
            "Epoch 71/100\n",
            "8/8 [==============================] - 101s 12s/step - loss: 0.2069 - accuracy: 0.9188 - val_loss: 1.5241 - val_accuracy: 0.7227\n",
            "Epoch 72/100\n",
            "8/8 [==============================] - 101s 12s/step - loss: 0.1355 - accuracy: 0.9522 - val_loss: 1.3079 - val_accuracy: 0.7930\n",
            "Epoch 73/100\n",
            "8/8 [==============================] - 101s 12s/step - loss: 0.2944 - accuracy: 0.8854 - val_loss: 1.7822 - val_accuracy: 0.7070\n",
            "Epoch 74/100\n",
            "8/8 [==============================] - 110s 13s/step - loss: 0.1325 - accuracy: 0.9570 - val_loss: 1.5776 - val_accuracy: 0.7305\n",
            "Epoch 75/100\n",
            "8/8 [==============================] - 101s 12s/step - loss: 0.1388 - accuracy: 0.9422 - val_loss: 1.0752 - val_accuracy: 0.7930\n",
            "Epoch 76/100\n",
            "8/8 [==============================] - 101s 12s/step - loss: 0.2607 - accuracy: 0.9255 - val_loss: 3.7855 - val_accuracy: 0.6289\n",
            "Epoch 77/100\n",
            "8/8 [==============================] - 100s 12s/step - loss: 0.1470 - accuracy: 0.9422 - val_loss: 2.0924 - val_accuracy: 0.6914\n",
            "Epoch 78/100\n",
            "8/8 [==============================] - 100s 14s/step - loss: 0.1100 - accuracy: 0.9588 - val_loss: 1.7053 - val_accuracy: 0.7227\n",
            "Epoch 79/100\n",
            "8/8 [==============================] - 101s 12s/step - loss: 0.1446 - accuracy: 0.9399 - val_loss: 2.2154 - val_accuracy: 0.6914\n",
            "Epoch 80/100\n",
            "8/8 [==============================] - 100s 14s/step - loss: 0.1823 - accuracy: 0.9166 - val_loss: 1.2352 - val_accuracy: 0.7695\n",
            "Epoch 81/100\n",
            "8/8 [==============================] - 101s 12s/step - loss: 0.1141 - accuracy: 0.9544 - val_loss: 2.0127 - val_accuracy: 0.7305\n",
            "Epoch 82/100\n",
            "8/8 [==============================] - 101s 12s/step - loss: 0.1792 - accuracy: 0.9177 - val_loss: 2.8627 - val_accuracy: 0.6484\n",
            "Epoch 83/100\n",
            "8/8 [==============================] - 101s 12s/step - loss: 0.1973 - accuracy: 0.9288 - val_loss: 1.9067 - val_accuracy: 0.7070\n",
            "Epoch 84/100\n",
            "8/8 [==============================] - 101s 12s/step - loss: 0.1296 - accuracy: 0.9555 - val_loss: 2.0233 - val_accuracy: 0.6992\n",
            "Epoch 85/100\n",
            "8/8 [==============================] - 101s 12s/step - loss: 0.1595 - accuracy: 0.9444 - val_loss: 2.0364 - val_accuracy: 0.7109\n",
            "Epoch 86/100\n",
            "8/8 [==============================] - 110s 13s/step - loss: 0.1262 - accuracy: 0.9521 - val_loss: 3.1635 - val_accuracy: 0.6367\n",
            "Epoch 87/100\n",
            "8/8 [==============================] - 101s 14s/step - loss: 0.1416 - accuracy: 0.9488 - val_loss: 1.5478 - val_accuracy: 0.7344\n",
            "Epoch 88/100\n",
            "8/8 [==============================] - 100s 14s/step - loss: 0.1359 - accuracy: 0.9477 - val_loss: 4.2896 - val_accuracy: 0.5898\n",
            "Epoch 89/100\n",
            "8/8 [==============================] - 101s 12s/step - loss: 0.2442 - accuracy: 0.8910 - val_loss: 1.5972 - val_accuracy: 0.7227\n",
            "Epoch 90/100\n",
            "8/8 [==============================] - 101s 12s/step - loss: 0.1269 - accuracy: 0.9455 - val_loss: 1.4911 - val_accuracy: 0.7383\n",
            "Epoch 91/100\n",
            "8/8 [==============================] - 101s 13s/step - loss: 0.1392 - accuracy: 0.9410 - val_loss: 0.6178 - val_accuracy: 0.8594\n",
            "Epoch 92/100\n",
            "8/8 [==============================] - 100s 14s/step - loss: 0.1424 - accuracy: 0.9455 - val_loss: 1.8685 - val_accuracy: 0.7109\n",
            "Epoch 93/100\n",
            "8/8 [==============================] - 100s 12s/step - loss: 0.1642 - accuracy: 0.9321 - val_loss: 2.3637 - val_accuracy: 0.6875\n",
            "Epoch 94/100\n",
            "8/8 [==============================] - 101s 12s/step - loss: 0.1073 - accuracy: 0.9588 - val_loss: 3.1176 - val_accuracy: 0.6445\n",
            "Epoch 95/100\n",
            "8/8 [==============================] - 101s 12s/step - loss: 0.1551 - accuracy: 0.9366 - val_loss: 1.1328 - val_accuracy: 0.8047\n",
            "Epoch 96/100\n",
            "8/8 [==============================] - 100s 14s/step - loss: 0.1118 - accuracy: 0.9566 - val_loss: 1.9772 - val_accuracy: 0.7031\n",
            "Epoch 97/100\n",
            "8/8 [==============================] - 101s 14s/step - loss: 0.1654 - accuracy: 0.9321 - val_loss: 1.8838 - val_accuracy: 0.7031\n",
            "Epoch 98/100\n",
            "8/8 [==============================] - 101s 12s/step - loss: 0.1694 - accuracy: 0.9321 - val_loss: 1.8374 - val_accuracy: 0.7031\n",
            "Epoch 99/100\n",
            "8/8 [==============================] - 101s 13s/step - loss: 0.1018 - accuracy: 0.9677 - val_loss: 1.7698 - val_accuracy: 0.7305\n",
            "Epoch 100/100\n",
            "8/8 [==============================] - 101s 12s/step - loss: 0.1467 - accuracy: 0.9499 - val_loss: 1.7629 - val_accuracy: 0.7266\n"
          ]
        }
      ]
    },
    {
      "cell_type": "code",
      "metadata": {
        "colab": {
          "base_uri": "https://localhost:8080/",
          "height": 545
        },
        "id": "m9N7IzPsrulu",
        "outputId": "2b7bce58-ce70-4b35-e5cc-9b6e2d6cc80f"
      },
      "source": [
        "import matplotlib.pyplot as plt\n",
        "\n",
        "acc = history.history['accuracy']\n",
        "val_acc = history.history['val_accuracy']\n",
        "loss = history.history['loss']\n",
        "val_loss = history.history['val_loss']\n",
        "\n",
        "epochs = range(len(acc))\n",
        "\n",
        "plt.plot(epochs, acc, 'r', label='Training accuracy')\n",
        "plt.plot(epochs, val_acc, 'b', label='Validation accuracy')\n",
        "plt.title('Training and validation accuracy')\n",
        "\n",
        "plt.figure()\n",
        "\n",
        "plt.plot(epochs, loss, 'r', label='Training Loss')\n",
        "plt.plot(epochs, val_loss, 'b', label='Validation Loss')\n",
        "plt.title('Training and validation loss')\n",
        "plt.legend()\n",
        "\n",
        "plt.show()"
      ],
      "execution_count": 8,
      "outputs": [
        {
          "output_type": "display_data",
          "data": {
            "image/png": "[encoded data removed]",
            "text/plain": [
              "<Figure size 432x288 with 1 Axes>"
            ]
          },
          "metadata": {
            "needs_background": "light"
          }
        },
        {
          "output_type": "display_data",
          "data": {
            "image/png": "[encoded data removed]",
            "text/plain": [
              "<Figure size 432x288 with 1 Axes>"
            ]
          },
          "metadata": {
            "needs_background": "light"
          }
        }
      ]
    },
    {
      "cell_type": "code",
      "metadata": {
        "id": "mK1Qi5T8cxXg"
      },
      "source": [
        ""
      ],
      "execution_count": null,
      "outputs": []
    }
  ]
}