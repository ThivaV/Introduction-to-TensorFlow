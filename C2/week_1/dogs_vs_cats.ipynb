{
 "cells": [
  {
   "cell_type": "markdown",
   "id": "12793c13-0dba-486c-892e-f6c29fbeda95",
   "metadata": {},
   "source": [
    "# Dogs Vs Cats\n",
    "To get the dataset: `!wget --no-check-certificate https://storage.googleapis.com/mledu-datasets/cats_and_dogs_filtered.zip`"
   ]
  },
  {
   "cell_type": "code",
   "execution_count": null,
   "id": "6e424083-b47e-44e1-a77b-dfd32ce5ec04",
   "metadata": {},
   "outputs": [],
   "source": [
    "import os\n",
    "import zipfile\n",
    "\n",
    "local_zip = './cats_and_dogs_filtered.zip'\n",
    "zip_ref = zipfile.ZipFile(local_zip, 'r')\n",
    "zip_ref.extractall()\n",
    "zip_ref.close()"
   ]
  },
  {
   "cell_type": "code",
   "execution_count": 2,
   "id": "9013e28b-7470-4c7e-9b51-e013a60d9a27",
   "metadata": {},
   "outputs": [
    {
     "name": "stdout",
     "output_type": "stream",
     "text": [
      "# conda environments:\n",
      "#\n",
      "base                  *  /home/thivav/anaconda3\n",
      "tf_exam                  /home/thivav/anaconda3/envs/tf_exam\n",
      "\n"
     ]
    }
   ],
   "source": [
    "!conda env list"
   ]
  },
  {
   "cell_type": "code",
   "execution_count": 5,
   "id": "5e9a6858-82e3-4096-b5bc-50062e2ae58d",
   "metadata": {},
   "outputs": [
    {
     "name": "stdout",
     "output_type": "stream",
     "text": [
      "\n",
      "CommandNotFoundError: Your shell has not been properly configured to use 'conda activate'.\n",
      "To initialize your shell, run\n",
      "\n",
      "    $ conda init <SHELL_NAME>\n",
      "\n",
      "Currently supported shells are:\n",
      "  - bash\n",
      "  - fish\n",
      "  - tcsh\n",
      "  - xonsh\n",
      "  - zsh\n",
      "  - powershell\n",
      "\n",
      "See 'conda init --help' for more information and options.\n",
      "\n",
      "IMPORTANT: You may need to close and restart your shell after running 'conda init'.\n",
      "\n",
      "\n"
     ]
    }
   ],
   "source": [
    "!conda activate tf_exam"
   ]
  },
  {
   "cell_type": "code",
   "execution_count": 4,
   "id": "fc3c16ee-4603-45a4-aed1-53bb7e6b905b",
   "metadata": {},
   "outputs": [
    {
     "name": "stdout",
     "output_type": "stream",
     "text": [
      "no change     /home/thivav/anaconda3/condabin/conda\n",
      "no change     /home/thivav/anaconda3/bin/conda\n",
      "no change     /home/thivav/anaconda3/bin/conda-env\n",
      "no change     /home/thivav/anaconda3/bin/activate\n",
      "no change     /home/thivav/anaconda3/bin/deactivate\n",
      "no change     /home/thivav/anaconda3/etc/profile.d/conda.sh\n",
      "no change     /home/thivav/anaconda3/etc/fish/conf.d/conda.fish\n",
      "no change     /home/thivav/anaconda3/shell/condabin/Conda.psm1\n",
      "no change     /home/thivav/anaconda3/shell/condabin/conda-hook.ps1\n",
      "no change     /home/thivav/anaconda3/lib/python3.8/site-packages/xontrib/conda.xsh\n",
      "no change     /home/thivav/anaconda3/etc/profile.d/conda.csh\n",
      "No action taken.\n"
     ]
    }
   ],
   "source": [
    "!conda init powershell"
   ]
  },
  {
   "cell_type": "code",
   "execution_count": 6,
   "id": "6bb228b8-f77b-460e-ad27-4d1c7b3e1864",
   "metadata": {},
   "outputs": [
    {
     "name": "stdout",
     "output_type": "stream",
     "text": [
      "no change     /home/thivav/anaconda3/condabin/conda\n",
      "no change     /home/thivav/anaconda3/bin/conda\n",
      "no change     /home/thivav/anaconda3/bin/conda-env\n",
      "no change     /home/thivav/anaconda3/bin/activate\n",
      "no change     /home/thivav/anaconda3/bin/deactivate\n",
      "no change     /home/thivav/anaconda3/etc/profile.d/conda.sh\n",
      "no change     /home/thivav/anaconda3/etc/fish/conf.d/conda.fish\n",
      "no change     /home/thivav/anaconda3/shell/condabin/Conda.psm1\n",
      "no change     /home/thivav/anaconda3/shell/condabin/conda-hook.ps1\n",
      "no change     /home/thivav/anaconda3/lib/python3.8/site-packages/xontrib/conda.xsh\n",
      "no change     /home/thivav/anaconda3/etc/profile.d/conda.csh\n",
      "no change     /home/thivav/.bashrc\n",
      "No action taken.\n"
     ]
    }
   ],
   "source": [
    "!conda init"
   ]
  },
  {
   "cell_type": "code",
   "execution_count": null,
   "id": "ed4670e9-ad3a-42c2-9312-b8586215e239",
   "metadata": {},
   "outputs": [],
   "source": []
  }
 ],
 "metadata": {
  "kernelspec": {
   "display_name": "Python 3 (ipykernel)",
   "language": "python",
   "name": "python3"
  },
  "language_info": {
   "codemirror_mode": {
    "name": "ipython",
    "version": 3
   },
   "file_extension": ".py",
   "mimetype": "text/x-python",
   "name": "python",
   "nbconvert_exporter": "python",
   "pygments_lexer": "ipython3",
   "version": "3.8.8"
  }
 },
 "nbformat": 4,
 "nbformat_minor": 5
}
